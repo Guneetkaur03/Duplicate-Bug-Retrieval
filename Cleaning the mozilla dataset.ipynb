{
 "cells": [
  {
   "cell_type": "markdown",
   "id": "452d668a",
   "metadata": {},
   "source": [
    "### Importing Necessary libraries"
   ]
  },
  {
   "cell_type": "code",
   "execution_count": 26,
   "id": "efbd6181",
   "metadata": {},
   "outputs": [],
   "source": [
    "import pandas as pd\n",
    "from tqdm import tqdm\n",
    "from itertools import combinations\n",
    "from matplotlib import pyplot as plt"
   ]
  },
  {
   "cell_type": "markdown",
   "id": "170de99b",
   "metadata": {},
   "source": [
    "### Reading the dataset"
   ]
  },
  {
   "cell_type": "code",
   "execution_count": 2,
   "id": "d9f82c89",
   "metadata": {},
   "outputs": [
    {
     "data": {
      "text/html": [
       "<div>\n",
       "<style scoped>\n",
       "    .dataframe tbody tr th:only-of-type {\n",
       "        vertical-align: middle;\n",
       "    }\n",
       "\n",
       "    .dataframe tbody tr th {\n",
       "        vertical-align: top;\n",
       "    }\n",
       "\n",
       "    .dataframe thead th {\n",
       "        text-align: right;\n",
       "    }\n",
       "</style>\n",
       "<table border=\"1\" class=\"dataframe\">\n",
       "  <thead>\n",
       "    <tr style=\"text-align: right;\">\n",
       "      <th></th>\n",
       "      <th>_id</th>\n",
       "      <th>bug_id</th>\n",
       "      <th>product</th>\n",
       "      <th>description</th>\n",
       "      <th>bug_severity</th>\n",
       "      <th>dup_id</th>\n",
       "      <th>short_desc</th>\n",
       "      <th>priority</th>\n",
       "      <th>version</th>\n",
       "      <th>component</th>\n",
       "      <th>delta_ts</th>\n",
       "      <th>bug_status</th>\n",
       "      <th>creation_ts</th>\n",
       "      <th>resolution</th>\n",
       "    </tr>\n",
       "  </thead>\n",
       "  <tbody>\n",
       "    <tr>\n",
       "      <th>0</th>\n",
       "      <td>ObjectId(52eaece454dc1c410c4fbc01)</td>\n",
       "      <td>35</td>\n",
       "      <td>MozillaClassic</td>\n",
       "      <td>Created by   (weitsang@cs.cornell.edu) on Mond...</td>\n",
       "      <td>minor</td>\n",
       "      <td>[]</td>\n",
       "      <td>Navigator does not free preference hash table ...</td>\n",
       "      <td>P3</td>\n",
       "      <td>1998-03-31</td>\n",
       "      <td>XFE</td>\n",
       "      <td>2013-11-19 18:16:47 -0800</td>\n",
       "      <td>VERIFIED</td>\n",
       "      <td>1998-04-07 01:37:03 -0700</td>\n",
       "      <td>WONTFIX</td>\n",
       "    </tr>\n",
       "    <tr>\n",
       "      <th>1</th>\n",
       "      <td>ObjectId(52eaece454dc1c410c4fbc02)</td>\n",
       "      <td>36</td>\n",
       "      <td>SeaMonkey</td>\n",
       "      <td>Created by J. Daniel Powell (dan@java-linux.or...</td>\n",
       "      <td>critical</td>\n",
       "      <td>[]</td>\n",
       "      <td>Floating Point Exception on Execution</td>\n",
       "      <td>P2</td>\n",
       "      <td>Trunk</td>\n",
       "      <td>Build Config</td>\n",
       "      <td>2012-10-31 18:36:36 -0700</td>\n",
       "      <td>VERIFIED</td>\n",
       "      <td>1998-04-07 02:04:03 -0700</td>\n",
       "      <td>INVALID</td>\n",
       "    </tr>\n",
       "    <tr>\n",
       "      <th>2</th>\n",
       "      <td>ObjectId(52eaece454dc1c410c4fbc03)</td>\n",
       "      <td>37</td>\n",
       "      <td>MozillaClassic</td>\n",
       "      <td>Created by Chen Ronghua (chenrh@usa.net) on Mo...</td>\n",
       "      <td>normal</td>\n",
       "      <td>[]</td>\n",
       "      <td>Preference Dialog does not show</td>\n",
       "      <td>P2</td>\n",
       "      <td>1998-03-31</td>\n",
       "      <td>Windows FE</td>\n",
       "      <td>2000-12-25 17:53:17 -0800</td>\n",
       "      <td>VERIFIED</td>\n",
       "      <td>1998-04-07 02:20:01 -0700</td>\n",
       "      <td>FIXED</td>\n",
       "    </tr>\n",
       "    <tr>\n",
       "      <th>3</th>\n",
       "      <td>ObjectId(52eaece454dc1c410c4fbc04)</td>\n",
       "      <td>39</td>\n",
       "      <td>MozillaClassic</td>\n",
       "      <td>Created by Chen Ronghua (chenrh@usa.net) on Mo...</td>\n",
       "      <td>normal</td>\n",
       "      <td>[]</td>\n",
       "      <td>Bookmark properties leads to an Assert  failed</td>\n",
       "      <td>P2</td>\n",
       "      <td>1998-03-31</td>\n",
       "      <td>Aurora/RDF BE</td>\n",
       "      <td>2013-11-19 23:42:54 -0800</td>\n",
       "      <td>VERIFIED</td>\n",
       "      <td>1998-04-07 02:34:14 -0700</td>\n",
       "      <td>WONTFIX</td>\n",
       "    </tr>\n",
       "    <tr>\n",
       "      <th>4</th>\n",
       "      <td>ObjectId(52eaece454dc1c410c4fbc05)</td>\n",
       "      <td>42</td>\n",
       "      <td>MozillaClassic</td>\n",
       "      <td>Created by Stephan  Nagy (steph8@flash.net) on...</td>\n",
       "      <td>minor</td>\n",
       "      <td>[]</td>\n",
       "      <td>navigator redraw after initial startup</td>\n",
       "      <td>P2</td>\n",
       "      <td>1998-03-31</td>\n",
       "      <td>XFE</td>\n",
       "      <td>2013-07-22 06:53:51 -0700</td>\n",
       "      <td>VERIFIED</td>\n",
       "      <td>1998-04-07 05:42:04 -0700</td>\n",
       "      <td>FIXED</td>\n",
       "    </tr>\n",
       "  </tbody>\n",
       "</table>\n",
       "</div>"
      ],
      "text/plain": [
       "                                  _id  bug_id         product  \\\n",
       "0  ObjectId(52eaece454dc1c410c4fbc01)      35  MozillaClassic   \n",
       "1  ObjectId(52eaece454dc1c410c4fbc02)      36       SeaMonkey   \n",
       "2  ObjectId(52eaece454dc1c410c4fbc03)      37  MozillaClassic   \n",
       "3  ObjectId(52eaece454dc1c410c4fbc04)      39  MozillaClassic   \n",
       "4  ObjectId(52eaece454dc1c410c4fbc05)      42  MozillaClassic   \n",
       "\n",
       "                                         description bug_severity dup_id  \\\n",
       "0  Created by   (weitsang@cs.cornell.edu) on Mond...        minor     []   \n",
       "1  Created by J. Daniel Powell (dan@java-linux.or...     critical     []   \n",
       "2  Created by Chen Ronghua (chenrh@usa.net) on Mo...       normal     []   \n",
       "3  Created by Chen Ronghua (chenrh@usa.net) on Mo...       normal     []   \n",
       "4  Created by Stephan  Nagy (steph8@flash.net) on...        minor     []   \n",
       "\n",
       "                                          short_desc priority     version  \\\n",
       "0  Navigator does not free preference hash table ...       P3  1998-03-31   \n",
       "1              Floating Point Exception on Execution       P2       Trunk   \n",
       "2                    Preference Dialog does not show       P2  1998-03-31   \n",
       "3     Bookmark properties leads to an Assert  failed       P2  1998-03-31   \n",
       "4             navigator redraw after initial startup       P2  1998-03-31   \n",
       "\n",
       "       component                   delta_ts bug_status  \\\n",
       "0            XFE  2013-11-19 18:16:47 -0800   VERIFIED   \n",
       "1   Build Config  2012-10-31 18:36:36 -0700   VERIFIED   \n",
       "2     Windows FE  2000-12-25 17:53:17 -0800   VERIFIED   \n",
       "3  Aurora/RDF BE  2013-11-19 23:42:54 -0800   VERIFIED   \n",
       "4            XFE  2013-07-22 06:53:51 -0700   VERIFIED   \n",
       "\n",
       "                 creation_ts resolution  \n",
       "0  1998-04-07 01:37:03 -0700    WONTFIX  \n",
       "1  1998-04-07 02:04:03 -0700    INVALID  \n",
       "2  1998-04-07 02:20:01 -0700      FIXED  \n",
       "3  1998-04-07 02:34:14 -0700    WONTFIX  \n",
       "4  1998-04-07 05:42:04 -0700      FIXED  "
      ]
     },
     "execution_count": 2,
     "metadata": {},
     "output_type": "execute_result"
    }
   ],
   "source": [
    "df = pd.read_csv('./mozilla/bug-dataset-mozilla.csv')\n",
    "df.head()"
   ]
  },
  {
   "cell_type": "code",
   "execution_count": 3,
   "id": "a475ee7b",
   "metadata": {},
   "outputs": [
    {
     "data": {
      "text/plain": [
       "(768335, 14)"
      ]
     },
     "execution_count": 3,
     "metadata": {},
     "output_type": "execute_result"
    }
   ],
   "source": [
    "df.shape"
   ]
  },
  {
   "cell_type": "code",
   "execution_count": 4,
   "id": "db61ca76",
   "metadata": {},
   "outputs": [],
   "source": [
    "#gathering bug_id_dup_id and resolutions of bugs\n",
    "bug_id = df['bug_id'].tolist()\n",
    "dup_id = df['dup_id'].tolist()\n",
    "resolution = df['resolution'].tolist()"
   ]
  },
  {
   "cell_type": "code",
   "execution_count": 5,
   "id": "1435c109",
   "metadata": {},
   "outputs": [],
   "source": [
    "no_dup_id = 0\n",
    "no_bug_id = 0"
   ]
  },
  {
   "cell_type": "code",
   "execution_count": 6,
   "id": "fa20051d",
   "metadata": {},
   "outputs": [
    {
     "name": "stderr",
     "output_type": "stream",
     "text": [
      "100%|█████████████████████████████████| 768335/768335 [12:08<00:00, 1054.22it/s]\n"
     ]
    }
   ],
   "source": [
    "for row in tqdm(range(df.shape[0])):\n",
    "    record = df.iloc[row]\n",
    "    bug_idx = record['bug_id']\n",
    "    if record['resolution'] == 'DUPLICATE':\n",
    "        dup_idx = record['dup_id']\n",
    "        if not dup_idx:\n",
    "            no_dup_id += 1\n",
    "            #print(\"Empty Duplicate id {}\".format(row[0]))\n",
    "            df.at[row, 'resolution'] = 'NDUPLICATE'\n",
    "        if int(dup_idx) not in bug_id:\n",
    "            no_bug_id += 1\n",
    "            #print(\"Duplicate id bug not present {}\".format(row[0]))\n",
    "            #row[1]['resolution'].replace('DUPLICATE', 'NDUPLICATE')\n",
    "            df.at[row, 'resolution'] = 'NDUPLICATE'"
   ]
  },
  {
   "cell_type": "code",
   "execution_count": 7,
   "id": "0ffe99fa",
   "metadata": {},
   "outputs": [
    {
     "name": "stdout",
     "output_type": "stream",
     "text": [
      "26958\n",
      "0\n"
     ]
    }
   ],
   "source": [
    "print(no_bug_id)\n",
    "print(no_dup_id)"
   ]
  },
  {
   "cell_type": "markdown",
   "id": "4fe5525c",
   "metadata": {},
   "source": [
    "## removing open bugs"
   ]
  },
  {
   "cell_type": "code",
   "execution_count": 8,
   "id": "6e225c32",
   "metadata": {},
   "outputs": [],
   "source": [
    "updated_df = df[df.bug_status == 'OPEN']"
   ]
  },
  {
   "cell_type": "code",
   "execution_count": 9,
   "id": "f6cacfdd",
   "metadata": {},
   "outputs": [
    {
     "data": {
      "text/plain": [
       "(0, 14)"
      ]
     },
     "execution_count": 9,
     "metadata": {},
     "output_type": "execute_result"
    }
   ],
   "source": [
    "updated_df.shape"
   ]
  },
  {
   "cell_type": "code",
   "execution_count": 10,
   "id": "58509304",
   "metadata": {},
   "outputs": [
    {
     "data": {
      "text/plain": [
       "RESOLVED    555767\n",
       "VERIFIED    211062\n",
       "CLOSED        1506\n",
       "Name: bug_status, dtype: int64"
      ]
     },
     "execution_count": 10,
     "metadata": {},
     "output_type": "execute_result"
    }
   ],
   "source": [
    "df['bug_status'].value_counts()"
   ]
  },
  {
   "cell_type": "code",
   "execution_count": 11,
   "id": "21092bed",
   "metadata": {},
   "outputs": [
    {
     "data": {
      "text/plain": [
       "FIXED         341657\n",
       "DUPLICATE     149767\n",
       "WORKSFORME    100836\n",
       "INVALID        69538\n",
       "WONTFIX        36931\n",
       "INCOMPLETE     31077\n",
       "NDUPLICATE     27718\n",
       "EXPIRED        10704\n",
       "MOVED            107\n",
       "Name: resolution, dtype: int64"
      ]
     },
     "execution_count": 11,
     "metadata": {},
     "output_type": "execute_result"
    }
   ],
   "source": [
    "df['resolution'].value_counts()"
   ]
  },
  {
   "cell_type": "markdown",
   "id": "d98ee4d8",
   "metadata": {},
   "source": [
    "### solving the cycle problem"
   ]
  },
  {
   "cell_type": "code",
   "execution_count": 12,
   "id": "c28ac014",
   "metadata": {
    "scrolled": true
   },
   "outputs": [
    {
     "name": "stderr",
     "output_type": "stream",
     "text": [
      "100%|█████████████████████████████████| 768335/768335 [04:26<00:00, 2887.04it/s]\n"
     ]
    }
   ],
   "source": [
    "for row in tqdm(range(df.shape[0])):\n",
    "    record = df.iloc[row]\n",
    "    bug_idx = int(float(record['bug_id']))\n",
    "    dup_idx = record['dup_id']\n",
    "    if dup_idx != '[]':\n",
    "        dup_idx_of_dup_idx = df.loc[df['bug_id'] == int(dup_idx)]\n",
    "        if not dup_idx_of_dup_idx.empty:\n",
    "            for row in dup_idx_of_dup_idx.iterrows():\n",
    "                details = row[1]\n",
    "                if details['dup_id'] != '[]':\n",
    "                    if int(details['dup_id']) == bug_idx:\n",
    "                        print(row)\n",
    "                        print(\"cycle detected\")"
   ]
  },
  {
   "cell_type": "markdown",
   "id": "1afff70b",
   "metadata": {},
   "source": [
    "### groups"
   ]
  },
  {
   "cell_type": "code",
   "execution_count": 13,
   "id": "ef05291f",
   "metadata": {},
   "outputs": [],
   "source": [
    "value_counts_df = df['dup_id'].value_counts().rename_axis('unique_values').reset_index(name='counts')"
   ]
  },
  {
   "cell_type": "code",
   "execution_count": 20,
   "id": "da9a4489",
   "metadata": {},
   "outputs": [
    {
     "data": {
      "text/html": [
       "<div>\n",
       "<style scoped>\n",
       "    .dataframe tbody tr th:only-of-type {\n",
       "        vertical-align: middle;\n",
       "    }\n",
       "\n",
       "    .dataframe tbody tr th {\n",
       "        vertical-align: top;\n",
       "    }\n",
       "\n",
       "    .dataframe thead th {\n",
       "        text-align: right;\n",
       "    }\n",
       "</style>\n",
       "<table border=\"1\" class=\"dataframe\">\n",
       "  <thead>\n",
       "    <tr style=\"text-align: right;\">\n",
       "      <th></th>\n",
       "      <th>unique_values</th>\n",
       "      <th>counts</th>\n",
       "    </tr>\n",
       "  </thead>\n",
       "  <tbody>\n",
       "    <tr>\n",
       "      <th>0</th>\n",
       "      <td>[]</td>\n",
       "      <td>591610</td>\n",
       "    </tr>\n",
       "    <tr>\n",
       "      <th>1</th>\n",
       "      <td>651803</td>\n",
       "      <td>588</td>\n",
       "    </tr>\n",
       "    <tr>\n",
       "      <th>2</th>\n",
       "      <td>171441</td>\n",
       "      <td>271</td>\n",
       "    </tr>\n",
       "    <tr>\n",
       "      <th>3</th>\n",
       "      <td>78414</td>\n",
       "      <td>170</td>\n",
       "    </tr>\n",
       "    <tr>\n",
       "      <th>4</th>\n",
       "      <td>22274</td>\n",
       "      <td>148</td>\n",
       "    </tr>\n",
       "  </tbody>\n",
       "</table>\n",
       "</div>"
      ],
      "text/plain": [
       "  unique_values  counts\n",
       "0            []  591610\n",
       "1        651803     588\n",
       "2        171441     271\n",
       "3         78414     170\n",
       "4         22274     148"
      ]
     },
     "execution_count": 20,
     "metadata": {},
     "output_type": "execute_result"
    }
   ],
   "source": [
    "value_counts_df.head()"
   ]
  },
  {
   "cell_type": "code",
   "execution_count": 21,
   "id": "8aa08612",
   "metadata": {},
   "outputs": [
    {
     "data": {
      "text/plain": [
       "(79872, 2)"
      ]
     },
     "execution_count": 21,
     "metadata": {},
     "output_type": "execute_result"
    }
   ],
   "source": [
    "value_counts_df.shape"
   ]
  },
  {
   "cell_type": "code",
   "execution_count": 16,
   "id": "4c9c565b",
   "metadata": {},
   "outputs": [
    {
     "data": {
      "text/html": [
       "<div>\n",
       "<style scoped>\n",
       "    .dataframe tbody tr th:only-of-type {\n",
       "        vertical-align: middle;\n",
       "    }\n",
       "\n",
       "    .dataframe tbody tr th {\n",
       "        vertical-align: top;\n",
       "    }\n",
       "\n",
       "    .dataframe thead th {\n",
       "        text-align: right;\n",
       "    }\n",
       "</style>\n",
       "<table border=\"1\" class=\"dataframe\">\n",
       "  <thead>\n",
       "    <tr style=\"text-align: right;\">\n",
       "      <th></th>\n",
       "      <th>unique_values</th>\n",
       "    </tr>\n",
       "    <tr>\n",
       "      <th>counts</th>\n",
       "      <th></th>\n",
       "    </tr>\n",
       "  </thead>\n",
       "  <tbody>\n",
       "    <tr>\n",
       "      <th>1</th>\n",
       "      <td>52368</td>\n",
       "    </tr>\n",
       "    <tr>\n",
       "      <th>2</th>\n",
       "      <td>12748</td>\n",
       "    </tr>\n",
       "    <tr>\n",
       "      <th>3</th>\n",
       "      <td>5306</td>\n",
       "    </tr>\n",
       "    <tr>\n",
       "      <th>4</th>\n",
       "      <td>2766</td>\n",
       "    </tr>\n",
       "    <tr>\n",
       "      <th>5</th>\n",
       "      <td>1642</td>\n",
       "    </tr>\n",
       "  </tbody>\n",
       "</table>\n",
       "</div>"
      ],
      "text/plain": [
       "        unique_values\n",
       "counts               \n",
       "1               52368\n",
       "2               12748\n",
       "3                5306\n",
       "4                2766\n",
       "5                1642"
      ]
     },
     "execution_count": 16,
     "metadata": {},
     "output_type": "execute_result"
    }
   ],
   "source": [
    "count_df = value_counts_df.groupby('counts').count()#.rename_axis('unique_values').reset_index(name='counts')\n",
    "count_df.head()"
   ]
  },
  {
   "cell_type": "code",
   "execution_count": 17,
   "id": "aa0ed6b1",
   "metadata": {},
   "outputs": [
    {
     "data": {
      "text/html": [
       "<div>\n",
       "<style scoped>\n",
       "    .dataframe tbody tr th:only-of-type {\n",
       "        vertical-align: middle;\n",
       "    }\n",
       "\n",
       "    .dataframe tbody tr th {\n",
       "        vertical-align: top;\n",
       "    }\n",
       "\n",
       "    .dataframe thead th {\n",
       "        text-align: right;\n",
       "    }\n",
       "</style>\n",
       "<table border=\"1\" class=\"dataframe\">\n",
       "  <thead>\n",
       "    <tr style=\"text-align: right;\">\n",
       "      <th></th>\n",
       "      <th>unique_values</th>\n",
       "      <th>log10</th>\n",
       "    </tr>\n",
       "    <tr>\n",
       "      <th>counts</th>\n",
       "      <th></th>\n",
       "      <th></th>\n",
       "    </tr>\n",
       "  </thead>\n",
       "  <tbody>\n",
       "    <tr>\n",
       "      <th>1</th>\n",
       "      <td>52368</td>\n",
       "      <td>4.719066</td>\n",
       "    </tr>\n",
       "    <tr>\n",
       "      <th>2</th>\n",
       "      <td>12748</td>\n",
       "      <td>4.105442</td>\n",
       "    </tr>\n",
       "    <tr>\n",
       "      <th>3</th>\n",
       "      <td>5306</td>\n",
       "      <td>3.724767</td>\n",
       "    </tr>\n",
       "    <tr>\n",
       "      <th>4</th>\n",
       "      <td>2766</td>\n",
       "      <td>3.441852</td>\n",
       "    </tr>\n",
       "    <tr>\n",
       "      <th>5</th>\n",
       "      <td>1642</td>\n",
       "      <td>3.215373</td>\n",
       "    </tr>\n",
       "  </tbody>\n",
       "</table>\n",
       "</div>"
      ],
      "text/plain": [
       "        unique_values     log10\n",
       "counts                         \n",
       "1               52368  4.719066\n",
       "2               12748  4.105442\n",
       "3                5306  3.724767\n",
       "4                2766  3.441852\n",
       "5                1642  3.215373"
      ]
     },
     "execution_count": 17,
     "metadata": {},
     "output_type": "execute_result"
    }
   ],
   "source": [
    "import numpy as np\n",
    "#value_counts_df = value_counts_df.iloc[1: , :]\n",
    "count_df['log10'] = np.log10(count_df['unique_values'].astype('int'))\n",
    "count_df.head()"
   ]
  },
  {
   "cell_type": "code",
   "execution_count": 18,
   "id": "4cfe3efe",
   "metadata": {},
   "outputs": [
    {
     "data": {
      "text/plain": [
       "(99, 2)"
      ]
     },
     "execution_count": 18,
     "metadata": {},
     "output_type": "execute_result"
    }
   ],
   "source": [
    "count_df.shape"
   ]
  },
  {
   "cell_type": "code",
   "execution_count": 23,
   "id": "83aa2768",
   "metadata": {},
   "outputs": [],
   "source": [
    "sum = 0\n",
    "for count in value_counts_df['counts']:\n",
    "    if count == 591610:\n",
    "        pass\n",
    "    else:\n",
    "        pairs = combinations(np.arange(count+1), 2)\n",
    "        sum += len(list(pairs))"
   ]
  },
  {
   "cell_type": "code",
   "execution_count": 24,
   "id": "03ea4297",
   "metadata": {},
   "outputs": [
    {
     "name": "stdout",
     "output_type": "stream",
     "text": [
      "1149256\n"
     ]
    }
   ],
   "source": [
    "print(sum)"
   ]
  },
  {
   "cell_type": "code",
   "execution_count": 27,
   "id": "602ab1d6",
   "metadata": {},
   "outputs": [
    {
     "data": {
      "image/png": "[encoded data removed]",
      "text/plain": [
       "<Figure size 1656x720 with 1 Axes>"
      ]
     },
     "metadata": {
      "needs_background": "light"
     },
     "output_type": "display_data"
    }
   ],
   "source": [
    "ax = count_df.plot.bar(y='log10', rot=0, figsize=(23,10))\n",
    "plt.show()"
   ]
  },
  {
   "cell_type": "markdown",
   "id": "81b660e5",
   "metadata": {},
   "source": [
    "### creatings duplicate pairs"
   ]
  },
  {
   "cell_type": "code",
   "execution_count": 28,
   "id": "d5b6eeb0",
   "metadata": {},
   "outputs": [],
   "source": [
    "pairs = []"
   ]
  },
  {
   "cell_type": "code",
   "execution_count": 29,
   "id": "94c79893",
   "metadata": {},
   "outputs": [
    {
     "name": "stderr",
     "output_type": "stream",
     "text": [
      "100%|█████████████████████████████████████| 79871/79871 [55:41<00:00, 23.90it/s]\n"
     ]
    }
   ],
   "source": [
    "for i in tqdm(range(1, value_counts_df.shape[0])):\n",
    "    \n",
    "    details = value_counts_df.iloc[i, :]\n",
    "    \n",
    "    bug_ids = set()\n",
    "    dup_id = details['unique_values']\n",
    "    bug_ids.add(dup_id)\n",
    "    \n",
    "    #find all the bugs that contain this dup_id\n",
    "    bug_id_df = df.loc[df['dup_id'] == str(dup_id)]\n",
    "    if not bug_id_df.empty:\n",
    "        for row in bug_id_df.iterrows():\n",
    "            details_row = row[1]\n",
    "            bug_ids.add(details_row['bug_id'])\n",
    "    \n",
    "    pairs_list = combinations(bug_ids, 2)\n",
    "    pairs.extend(pairs_list)"
   ]
  },
  {
   "cell_type": "code",
   "execution_count": 30,
   "id": "dda49a23",
   "metadata": {},
   "outputs": [
    {
     "data": {
      "text/plain": [
       "1149116"
      ]
     },
     "execution_count": 30,
     "metadata": {},
     "output_type": "execute_result"
    }
   ],
   "source": [
    "len(pairs)"
   ]
  },
  {
   "cell_type": "code",
   "execution_count": null,
   "id": "c5dae2a9",
   "metadata": {},
   "outputs": [],
   "source": [
    "pairs[:][0]"
   ]
  },
  {
   "cell_type": "code",
   "execution_count": null,
   "id": "fc29399e",
   "metadata": {},
   "outputs": [],
   "source": [
    "duplicate_df = pd.DataFrame(pairs, columns=[\"bug1\", \"bug2\"])"
   ]
  },
  {
   "cell_type": "code",
   "execution_count": null,
   "id": "e359aa71",
   "metadata": {},
   "outputs": [],
   "source": [
    "duplicate_df.to_csv('./duplicate_bug_pairs.csv' ,index=False)"
   ]
  },
  {
   "cell_type": "markdown",
   "id": "e8c9f4fe",
   "metadata": {},
   "source": [
    "### creating non duplicate bug pairs "
   ]
  },
  {
   "cell_type": "code",
   "execution_count": 7,
   "id": "f7716d51",
   "metadata": {},
   "outputs": [],
   "source": [
    "list_of_non_dup_bugs = []"
   ]
  },
  {
   "cell_type": "code",
   "execution_count": 8,
   "id": "631553cf",
   "metadata": {},
   "outputs": [
    {
     "name": "stderr",
     "output_type": "stream",
     "text": [
      "100%|█████████████████████████████████| 768335/768335 [01:28<00:00, 8667.24it/s]\n"
     ]
    }
   ],
   "source": [
    "#find list of all bugs where dup_id is empty\n",
    "for i in tqdm(range(df.shape[0])):\n",
    "    details = df.iloc[i, :]\n",
    "    bug_idx = details['bug_id']\n",
    "    dup_idx = details['dup_id']\n",
    "     \n",
    "    if dup_idx == '[]':\n",
    "        list_of_non_dup_bugs.append(bug_idx)"
   ]
  },
  {
   "cell_type": "code",
   "execution_count": 9,
   "id": "392adc81",
   "metadata": {},
   "outputs": [
    {
     "data": {
      "text/plain": [
       "591610"
      ]
     },
     "execution_count": 9,
     "metadata": {},
     "output_type": "execute_result"
    }
   ],
   "source": [
    "len(list_of_non_dup_bugs)"
   ]
  },
  {
   "cell_type": "code",
   "execution_count": 10,
   "id": "0681f9a1",
   "metadata": {},
   "outputs": [],
   "source": [
    "#creating all pairs\n",
    "\n",
    "all_nd_pairs = combinations(list_of_non_dup_bugs, 2)\n",
    "\n",
    "#creating 4 time non dup pairs"
   ]
  },
  {
   "cell_type": "code",
   "execution_count": 15,
   "id": "f1c70a7d",
   "metadata": {},
   "outputs": [
    {
     "data": {
      "text/html": [
       "<div>\n",
       "<style scoped>\n",
       "    .dataframe tbody tr th:only-of-type {\n",
       "        vertical-align: middle;\n",
       "    }\n",
       "\n",
       "    .dataframe tbody tr th {\n",
       "        vertical-align: top;\n",
       "    }\n",
       "\n",
       "    .dataframe thead th {\n",
       "        text-align: right;\n",
       "    }\n",
       "</style>\n",
       "<table border=\"1\" class=\"dataframe\">\n",
       "  <thead>\n",
       "    <tr style=\"text-align: right;\">\n",
       "      <th></th>\n",
       "      <th>bug1</th>\n",
       "      <th>bug2</th>\n",
       "    </tr>\n",
       "  </thead>\n",
       "  <tbody>\n",
       "  </tbody>\n",
       "</table>\n",
       "</div>"
      ],
      "text/plain": [
       "Empty DataFrame\n",
       "Columns: [bug1, bug2]\n",
       "Index: []"
      ]
     },
     "execution_count": 15,
     "metadata": {},
     "output_type": "execute_result"
    }
   ],
   "source": [
    "non_dup_df = pd.DataFrame(columns=['bug1', 'bug2'])\n",
    "non_dup_df"
   ]
  },
  {
   "cell_type": "code",
   "execution_count": 16,
   "id": "67983e0e",
   "metadata": {},
   "outputs": [
    {
     "name": "stderr",
     "output_type": "stream",
     "text": [
      "720797it [1:55:35, 103.92it/s]\n"
     ]
    },
    {
     "ename": "KeyboardInterrupt",
     "evalue": "",
     "output_type": "error",
     "traceback": [
      "\u001b[0;31m---------------------------------------------------------------------------\u001b[0m",
      "\u001b[0;31mKeyboardInterrupt\u001b[0m                         Traceback (most recent call last)",
      "\u001b[0;32m/tmp/ipykernel_5365/720670074.py\u001b[0m in \u001b[0;36m<module>\u001b[0;34m\u001b[0m\n\u001b[1;32m      5\u001b[0m \u001b[0;34m\u001b[0m\u001b[0m\n\u001b[1;32m      6\u001b[0m \u001b[0;31m# Add a series as a row to the dataframe\u001b[0m\u001b[0;34m\u001b[0m\u001b[0;34m\u001b[0m\u001b[0;34m\u001b[0m\u001b[0m\n\u001b[0;32m----> 7\u001b[0;31m     non_dup_df = non_dup_df.append(  series_obj,\n\u001b[0m\u001b[1;32m      8\u001b[0m                         ignore_index=True)   \n",
      "\u001b[0;32m~/.local/lib/python3.8/site-packages/pandas/core/frame.py\u001b[0m in \u001b[0;36mappend\u001b[0;34m(self, other, ignore_index, verify_integrity, sort)\u001b[0m\n\u001b[1;32m   8959\u001b[0m             \u001b[0mto_concat\u001b[0m \u001b[0;34m=\u001b[0m \u001b[0;34m[\u001b[0m\u001b[0mself\u001b[0m\u001b[0;34m,\u001b[0m \u001b[0mother\u001b[0m\u001b[0;34m]\u001b[0m\u001b[0;34m\u001b[0m\u001b[0;34m\u001b[0m\u001b[0m\n\u001b[1;32m   8960\u001b[0m         return (\n\u001b[0;32m-> 8961\u001b[0;31m             concat(\n\u001b[0m\u001b[1;32m   8962\u001b[0m                 \u001b[0mto_concat\u001b[0m\u001b[0;34m,\u001b[0m\u001b[0;34m\u001b[0m\u001b[0;34m\u001b[0m\u001b[0m\n\u001b[1;32m   8963\u001b[0m                 \u001b[0mignore_index\u001b[0m\u001b[0;34m=\u001b[0m\u001b[0mignore_index\u001b[0m\u001b[0;34m,\u001b[0m\u001b[0;34m\u001b[0m\u001b[0;34m\u001b[0m\u001b[0m\n",
      "\u001b[0;32m~/.local/lib/python3.8/site-packages/pandas/util/_decorators.py\u001b[0m in \u001b[0;36mwrapper\u001b[0;34m(*args, **kwargs)\u001b[0m\n\u001b[1;32m    309\u001b[0m                     \u001b[0mstacklevel\u001b[0m\u001b[0;34m=\u001b[0m\u001b[0mstacklevel\u001b[0m\u001b[0;34m,\u001b[0m\u001b[0;34m\u001b[0m\u001b[0;34m\u001b[0m\u001b[0m\n\u001b[1;32m    310\u001b[0m                 )\n\u001b[0;32m--> 311\u001b[0;31m             \u001b[0;32mreturn\u001b[0m \u001b[0mfunc\u001b[0m\u001b[0;34m(\u001b[0m\u001b[0;34m*\u001b[0m\u001b[0margs\u001b[0m\u001b[0;34m,\u001b[0m \u001b[0;34m**\u001b[0m\u001b[0mkwargs\u001b[0m\u001b[0;34m)\u001b[0m\u001b[0;34m\u001b[0m\u001b[0;34m\u001b[0m\u001b[0m\n\u001b[0m\u001b[1;32m    312\u001b[0m \u001b[0;34m\u001b[0m\u001b[0m\n\u001b[1;32m    313\u001b[0m         \u001b[0;32mreturn\u001b[0m \u001b[0mwrapper\u001b[0m\u001b[0;34m\u001b[0m\u001b[0;34m\u001b[0m\u001b[0m\n",
      "\u001b[0;32m~/.local/lib/python3.8/site-packages/pandas/core/reshape/concat.py\u001b[0m in \u001b[0;36mconcat\u001b[0;34m(objs, axis, join, ignore_index, keys, levels, names, verify_integrity, sort, copy)\u001b[0m\n\u001b[1;32m    305\u001b[0m     )\n\u001b[1;32m    306\u001b[0m \u001b[0;34m\u001b[0m\u001b[0m\n\u001b[0;32m--> 307\u001b[0;31m     \u001b[0;32mreturn\u001b[0m \u001b[0mop\u001b[0m\u001b[0;34m.\u001b[0m\u001b[0mget_result\u001b[0m\u001b[0;34m(\u001b[0m\u001b[0;34m)\u001b[0m\u001b[0;34m\u001b[0m\u001b[0;34m\u001b[0m\u001b[0m\n\u001b[0m\u001b[1;32m    308\u001b[0m \u001b[0;34m\u001b[0m\u001b[0m\n\u001b[1;32m    309\u001b[0m \u001b[0;34m\u001b[0m\u001b[0m\n",
      "\u001b[0;32m~/.local/lib/python3.8/site-packages/pandas/core/reshape/concat.py\u001b[0m in \u001b[0;36mget_result\u001b[0;34m(self)\u001b[0m\n\u001b[1;32m    530\u001b[0m                 \u001b[0mmgrs_indexers\u001b[0m\u001b[0;34m.\u001b[0m\u001b[0mappend\u001b[0m\u001b[0;34m(\u001b[0m\u001b[0;34m(\u001b[0m\u001b[0mobj\u001b[0m\u001b[0;34m.\u001b[0m\u001b[0m_mgr\u001b[0m\u001b[0;34m,\u001b[0m \u001b[0mindexers\u001b[0m\u001b[0;34m)\u001b[0m\u001b[0;34m)\u001b[0m\u001b[0;34m\u001b[0m\u001b[0;34m\u001b[0m\u001b[0m\n\u001b[1;32m    531\u001b[0m \u001b[0;34m\u001b[0m\u001b[0m\n\u001b[0;32m--> 532\u001b[0;31m             new_data = concatenate_managers(\n\u001b[0m\u001b[1;32m    533\u001b[0m                 \u001b[0mmgrs_indexers\u001b[0m\u001b[0;34m,\u001b[0m \u001b[0mself\u001b[0m\u001b[0;34m.\u001b[0m\u001b[0mnew_axes\u001b[0m\u001b[0;34m,\u001b[0m \u001b[0mconcat_axis\u001b[0m\u001b[0;34m=\u001b[0m\u001b[0mself\u001b[0m\u001b[0;34m.\u001b[0m\u001b[0mbm_axis\u001b[0m\u001b[0;34m,\u001b[0m \u001b[0mcopy\u001b[0m\u001b[0;34m=\u001b[0m\u001b[0mself\u001b[0m\u001b[0;34m.\u001b[0m\u001b[0mcopy\u001b[0m\u001b[0;34m\u001b[0m\u001b[0;34m\u001b[0m\u001b[0m\n\u001b[1;32m    534\u001b[0m             )\n",
      "\u001b[0;32m~/.local/lib/python3.8/site-packages/pandas/core/internals/concat.py\u001b[0m in \u001b[0;36mconcatenate_managers\u001b[0;34m(mgrs_indexers, axes, concat_axis, copy)\u001b[0m\n\u001b[1;32m    224\u001b[0m             \u001b[0mfastpath\u001b[0m \u001b[0;34m=\u001b[0m \u001b[0mblk\u001b[0m\u001b[0;34m.\u001b[0m\u001b[0mvalues\u001b[0m\u001b[0;34m.\u001b[0m\u001b[0mdtype\u001b[0m \u001b[0;34m==\u001b[0m \u001b[0mvalues\u001b[0m\u001b[0;34m.\u001b[0m\u001b[0mdtype\u001b[0m\u001b[0;34m\u001b[0m\u001b[0;34m\u001b[0m\u001b[0m\n\u001b[1;32m    225\u001b[0m         \u001b[0;32melse\u001b[0m\u001b[0;34m:\u001b[0m\u001b[0;34m\u001b[0m\u001b[0;34m\u001b[0m\u001b[0m\n\u001b[0;32m--> 226\u001b[0;31m             \u001b[0mvalues\u001b[0m \u001b[0;34m=\u001b[0m \u001b[0m_concatenate_join_units\u001b[0m\u001b[0;34m(\u001b[0m\u001b[0mjoin_units\u001b[0m\u001b[0;34m,\u001b[0m \u001b[0mconcat_axis\u001b[0m\u001b[0;34m,\u001b[0m \u001b[0mcopy\u001b[0m\u001b[0;34m=\u001b[0m\u001b[0mcopy\u001b[0m\u001b[0;34m)\u001b[0m\u001b[0;34m\u001b[0m\u001b[0;34m\u001b[0m\u001b[0m\n\u001b[0m\u001b[1;32m    227\u001b[0m             \u001b[0mfastpath\u001b[0m \u001b[0;34m=\u001b[0m \u001b[0;32mFalse\u001b[0m\u001b[0;34m\u001b[0m\u001b[0;34m\u001b[0m\u001b[0m\n\u001b[1;32m    228\u001b[0m \u001b[0;34m\u001b[0m\u001b[0m\n",
      "\u001b[0;32m~/.local/lib/python3.8/site-packages/pandas/core/internals/concat.py\u001b[0m in \u001b[0;36m_concatenate_join_units\u001b[0;34m(join_units, concat_axis, copy)\u001b[0m\n\u001b[1;32m    521\u001b[0m \u001b[0;34m\u001b[0m\u001b[0m\n\u001b[1;32m    522\u001b[0m     \u001b[0;32melse\u001b[0m\u001b[0;34m:\u001b[0m\u001b[0;34m\u001b[0m\u001b[0;34m\u001b[0m\u001b[0m\n\u001b[0;32m--> 523\u001b[0;31m         \u001b[0mconcat_values\u001b[0m \u001b[0;34m=\u001b[0m \u001b[0mconcat_compat\u001b[0m\u001b[0;34m(\u001b[0m\u001b[0mto_concat\u001b[0m\u001b[0;34m,\u001b[0m \u001b[0maxis\u001b[0m\u001b[0;34m=\u001b[0m\u001b[0mconcat_axis\u001b[0m\u001b[0;34m)\u001b[0m\u001b[0;34m\u001b[0m\u001b[0;34m\u001b[0m\u001b[0m\n\u001b[0m\u001b[1;32m    524\u001b[0m \u001b[0;34m\u001b[0m\u001b[0m\n\u001b[1;32m    525\u001b[0m     \u001b[0;32mreturn\u001b[0m \u001b[0mconcat_values\u001b[0m\u001b[0;34m\u001b[0m\u001b[0;34m\u001b[0m\u001b[0m\n",
      "\u001b[0;32m~/.local/lib/python3.8/site-packages/pandas/core/dtypes/concat.py\u001b[0m in \u001b[0;36mconcat_compat\u001b[0;34m(to_concat, axis, ea_compat_axis)\u001b[0m\n\u001b[1;32m    149\u001b[0m                 \u001b[0mto_concat\u001b[0m \u001b[0;34m=\u001b[0m \u001b[0;34m[\u001b[0m\u001b[0mx\u001b[0m\u001b[0;34m.\u001b[0m\u001b[0mastype\u001b[0m\u001b[0;34m(\u001b[0m\u001b[0;34m\"object\"\u001b[0m\u001b[0;34m)\u001b[0m \u001b[0;32mfor\u001b[0m \u001b[0mx\u001b[0m \u001b[0;32min\u001b[0m \u001b[0mto_concat\u001b[0m\u001b[0;34m]\u001b[0m\u001b[0;34m\u001b[0m\u001b[0;34m\u001b[0m\u001b[0m\n\u001b[1;32m    150\u001b[0m \u001b[0;34m\u001b[0m\u001b[0m\n\u001b[0;32m--> 151\u001b[0;31m     \u001b[0;32mreturn\u001b[0m \u001b[0mnp\u001b[0m\u001b[0;34m.\u001b[0m\u001b[0mconcatenate\u001b[0m\u001b[0;34m(\u001b[0m\u001b[0mto_concat\u001b[0m\u001b[0;34m,\u001b[0m \u001b[0maxis\u001b[0m\u001b[0;34m=\u001b[0m\u001b[0maxis\u001b[0m\u001b[0;34m)\u001b[0m\u001b[0;34m\u001b[0m\u001b[0;34m\u001b[0m\u001b[0m\n\u001b[0m\u001b[1;32m    152\u001b[0m \u001b[0;34m\u001b[0m\u001b[0m\n\u001b[1;32m    153\u001b[0m \u001b[0;34m\u001b[0m\u001b[0m\n",
      "\u001b[0;32m<__array_function__ internals>\u001b[0m in \u001b[0;36mconcatenate\u001b[0;34m(*args, **kwargs)\u001b[0m\n",
      "\u001b[0;31mKeyboardInterrupt\u001b[0m: "
     ]
    }
   ],
   "source": [
    "for pair in tqdm(all_nd_pairs):\n",
    "    \n",
    "    series_obj = pd.Series(pair, \n",
    "                        index=non_dup_df.columns )\n",
    "\n",
    "# Add a series as a row to the dataframe  \n",
    "    non_dup_df = non_dup_df.append(  series_obj,\n",
    "                        ignore_index=True)   "
   ]
  },
  {
   "cell_type": "code",
   "execution_count": 17,
   "id": "a923d54a",
   "metadata": {},
   "outputs": [
    {
     "data": {
      "text/plain": [
       "(720797, 2)"
      ]
     },
     "execution_count": 17,
     "metadata": {},
     "output_type": "execute_result"
    }
   ],
   "source": [
    "non_dup_df.shape"
   ]
  },
  {
   "cell_type": "code",
   "execution_count": 18,
   "id": "888b8add",
   "metadata": {},
   "outputs": [],
   "source": [
    "non_dup_df.to_csv('./non_duplicate_bug_pairs.csv' ,index=False)"
   ]
  }
 ],
 "metadata": {
  "kernelspec": {
   "display_name": "Python 3 (ipykernel)",
   "language": "python",
   "name": "python3"
  },
  "language_info": {
   "codemirror_mode": {
    "name": "ipython",
    "version": 3
   },
   "file_extension": ".py",
   "mimetype": "text/x-python",
   "name": "python",
   "nbconvert_exporter": "python",
   "pygments_lexer": "ipython3",
   "version": "3.8.10"
  }
 },
 "nbformat": 4,
 "nbformat_minor": 5
}
