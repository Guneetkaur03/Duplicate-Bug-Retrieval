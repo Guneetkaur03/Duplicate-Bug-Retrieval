{
 "cells": [
  {
   "cell_type": "code",
   "execution_count": 12,
   "id": "d231b25b",
   "metadata": {},
   "outputs": [],
   "source": [
    "import torch\n",
    "import torch.nn as nn\n",
    "import torch.nn.functional as F"
   ]
  },
  {
   "cell_type": "code",
   "execution_count": 5,
   "id": "3897712f",
   "metadata": {},
   "outputs": [],
   "source": [
    "n_words = 20000\n",
    "word_dim = 300\n",
    "n_filters = 64\n",
    "n_prop = 651\n",
    "data = './'"
   ]
  },
  {
   "cell_type": "code",
   "execution_count": 14,
   "id": "99f9b5a4",
   "metadata": {},
   "outputs": [],
   "source": [
    "class CNN_Text(nn.Module):\n",
    "    def __init__(self, input_dim, n_filters):\n",
    "        super(CNN_Text, self).__init__()\n",
    "        D = input_dim\n",
    "        Ci = 1\n",
    "        Co = n_filters\n",
    "        Ks = [3, 4, 5]\n",
    "        self.convs = nn.ModuleList([nn.Conv2d(Ci, Co, (K, D)) for K in Ks])\n",
    "        self.fc = nn.Sequential(nn.Linear(n_filters * 3, 100), nn.Tanh())\n",
    "\n",
    "    def forward(self, x):\n",
    "        x = x.unsqueeze(1)  # (N, Ci, W, D)\n",
    "        x = [F.relu(conv(x)).squeeze(3) for conv in self.convs] # [(N, Co, W), ...]*len(Ks)\n",
    "        x = [F.max_pool1d(i, i.size(2)).squeeze(2) for i in x] # [(N, Co), ...]*len(Ks)\n",
    "        x = torch.cat(x, 1)\n",
    "        return self.fc(x)"
   ]
  },
  {
   "cell_type": "code",
   "execution_count": 15,
   "id": "fba4df95",
   "metadata": {},
   "outputs": [],
   "source": [
    "def load_emb_matrix(vocab_size, emb_size, data):\n",
    "    \n",
    "    embedding_weights = {}\n",
    "    f = open('../glove.42B.{}d.txt'.format(emb_size), 'r')\n",
    "    \n",
    "    loop = tqdm(f)\n",
    "    loop.set_description('Load Glove')\n",
    "    \n",
    "    for line in loop:\n",
    "        values = line.split()\n",
    "        word = values[0]\n",
    "        coefs = np.asarray(values[1:], dtype='float32')\n",
    "        \n",
    "    embedding_weights[word] = coefs\n",
    "    \n",
    "    f.close()\n",
    "    \n",
    "    print('Total {} word vectors in Glove.'.format(len(embedding_weights)))\n",
    "\n",
    "    embedding_matrix = np.random.uniform(-1.0, 1.0, (vocab_size, emb_size))\n",
    "    \n",
    "    embedding_matrix[0, :] = np.zeros(emb_size)\n",
    "\n",
    "    oov_count = 0\n",
    "    \n",
    "    vocab = load_vocabulary(os.path.join(data, 'word_vocab.pkl'))\n",
    "    \n",
    "    for word, i in vocab.items():\n",
    "        embedding_vector = embedding_weights.get(word)\n",
    "        \n",
    "    if embedding_vector is not None:\n",
    "        embedding_matrix[i] = embedding_vector\n",
    "    else:\n",
    "        oov_count += 1\n",
    "        \n",
    "    print('Number of OOV words: %d' % oov_count)\n",
    "\n",
    "    return embedding_matrix"
   ]
  },
  {
   "cell_type": "code",
   "execution_count": 16,
   "id": "381e7ee1",
   "metadata": {},
   "outputs": [],
   "source": [
    "    class NeuralNet(torch.nn.Module):\n",
    "\n",
    "        def __init__(self):\n",
    "            super(NeuralNet, self).__init__()\n",
    "\n",
    "            #embedding layer\n",
    "            self.word_embed = nn.Embedding(n_words, word_dim, max_norm=1, padding_idx=0)\n",
    "\n",
    "            self.word_embed.weight = nn.Parameter(\n",
    "              torch.from_numpy(load_emb_matrix(n_words, word_dim, data)).float()\n",
    "            )\n",
    "\n",
    "            self.CNN = CNN_Text(word_dim, n_filters)\n",
    "\n",
    "            self.RNN = nn.GRU(input_size=word_dim, hidden_size=50, bidirectional=True, batch_first=True)\n",
    "\n",
    "            self.info_proj = nn.Sequential(nn.Linear(n_prop, 100), nn.Tanh())\n",
    "\n",
    "            self.projection = nn.Linear(300, 100)\n",
    "\n",
    "\n",
    "        def forward(self, x):\n",
    "\n",
    "            # x = [info, desc, short desc]\n",
    "            info = x['info']\n",
    "            info_feature = self.info_proj(info.float())\n",
    "\n",
    "            desc = x['desc'][0]\n",
    "            desc_feature = self.CNN(self.word_embed(desc))\n",
    "\n",
    "            short_desc = x['short_desc'][0]\n",
    "            out, hidden = self.RNN(self.word_embed(short_desc))\n",
    "            short_desc_feature = torch.mean(out, dim=1)\n",
    "\n",
    "            feature = torch.cat([info_feature, short_desc_feature, desc_feature], -1)\n",
    "            return self.projection(feature)"
   ]
  },
  {
   "cell_type": "code",
   "execution_count": 17,
   "id": "b314d820",
   "metadata": {},
   "outputs": [
    {
     "ename": "FileNotFoundError",
     "evalue": "[Errno 2] No such file or directory: '../glove.42B.300d.txt'",
     "output_type": "error",
     "traceback": [
      "\u001b[0;31m---------------------------------------------------------------------------\u001b[0m",
      "\u001b[0;31mFileNotFoundError\u001b[0m                         Traceback (most recent call last)",
      "\u001b[0;32m/tmp/ipykernel_52008/4106952355.py\u001b[0m in \u001b[0;36m<module>\u001b[0;34m\u001b[0m\n\u001b[0;32m----> 1\u001b[0;31m \u001b[0mnet\u001b[0m \u001b[0;34m=\u001b[0m \u001b[0mNeuralNet\u001b[0m\u001b[0;34m(\u001b[0m\u001b[0;34m)\u001b[0m\u001b[0;34m\u001b[0m\u001b[0;34m\u001b[0m\u001b[0m\n\u001b[0m\u001b[1;32m      2\u001b[0m \u001b[0mnet\u001b[0m\u001b[0;34m.\u001b[0m\u001b[0mcuda\u001b[0m\u001b[0;34m(\u001b[0m\u001b[0;34m)\u001b[0m\u001b[0;34m\u001b[0m\u001b[0;34m\u001b[0m\u001b[0m\n",
      "\u001b[0;32m/tmp/ipykernel_52008/2538919900.py\u001b[0m in \u001b[0;36m__init__\u001b[0;34m(self)\u001b[0m\n\u001b[1;32m      8\u001b[0m \u001b[0;34m\u001b[0m\u001b[0m\n\u001b[1;32m      9\u001b[0m         self.word_embed.weight = nn.Parameter(\n\u001b[0;32m---> 10\u001b[0;31m           \u001b[0mtorch\u001b[0m\u001b[0;34m.\u001b[0m\u001b[0mfrom_numpy\u001b[0m\u001b[0;34m(\u001b[0m\u001b[0mload_emb_matrix\u001b[0m\u001b[0;34m(\u001b[0m\u001b[0mn_words\u001b[0m\u001b[0;34m,\u001b[0m \u001b[0mword_dim\u001b[0m\u001b[0;34m,\u001b[0m \u001b[0mdata\u001b[0m\u001b[0;34m)\u001b[0m\u001b[0;34m)\u001b[0m\u001b[0;34m.\u001b[0m\u001b[0mfloat\u001b[0m\u001b[0;34m(\u001b[0m\u001b[0;34m)\u001b[0m\u001b[0;34m\u001b[0m\u001b[0;34m\u001b[0m\u001b[0m\n\u001b[0m\u001b[1;32m     11\u001b[0m         )\n\u001b[1;32m     12\u001b[0m \u001b[0;34m\u001b[0m\u001b[0m\n",
      "\u001b[0;32m/tmp/ipykernel_52008/1437798760.py\u001b[0m in \u001b[0;36mload_emb_matrix\u001b[0;34m(vocab_size, emb_size, data)\u001b[0m\n\u001b[1;32m      2\u001b[0m \u001b[0;34m\u001b[0m\u001b[0m\n\u001b[1;32m      3\u001b[0m     \u001b[0membedding_weights\u001b[0m \u001b[0;34m=\u001b[0m \u001b[0;34m{\u001b[0m\u001b[0;34m}\u001b[0m\u001b[0;34m\u001b[0m\u001b[0;34m\u001b[0m\u001b[0m\n\u001b[0;32m----> 4\u001b[0;31m     \u001b[0mf\u001b[0m \u001b[0;34m=\u001b[0m \u001b[0mopen\u001b[0m\u001b[0;34m(\u001b[0m\u001b[0;34m'../glove.42B.{}d.txt'\u001b[0m\u001b[0;34m.\u001b[0m\u001b[0mformat\u001b[0m\u001b[0;34m(\u001b[0m\u001b[0memb_size\u001b[0m\u001b[0;34m)\u001b[0m\u001b[0;34m,\u001b[0m \u001b[0;34m'r'\u001b[0m\u001b[0;34m)\u001b[0m\u001b[0;34m\u001b[0m\u001b[0;34m\u001b[0m\u001b[0m\n\u001b[0m\u001b[1;32m      5\u001b[0m \u001b[0;34m\u001b[0m\u001b[0m\n\u001b[1;32m      6\u001b[0m     \u001b[0mloop\u001b[0m \u001b[0;34m=\u001b[0m \u001b[0mtqdm\u001b[0m\u001b[0;34m(\u001b[0m\u001b[0mf\u001b[0m\u001b[0;34m)\u001b[0m\u001b[0;34m\u001b[0m\u001b[0;34m\u001b[0m\u001b[0m\n",
      "\u001b[0;31mFileNotFoundError\u001b[0m: [Errno 2] No such file or directory: '../glove.42B.300d.txt'"
     ]
    }
   ],
   "source": [
    "net = NeuralNet()\n",
    "net.cuda()"
   ]
  },
  {
   "cell_type": "code",
   "execution_count": null,
   "id": "2fd6b057",
   "metadata": {},
   "outputs": [],
   "source": []
  }
 ],
 "metadata": {
  "kernelspec": {
   "display_name": "Python 3 (ipykernel)",
   "language": "python",
   "name": "python3"
  },
  "language_info": {
   "codemirror_mode": {
    "name": "ipython",
    "version": 3
   },
   "file_extension": ".py",
   "mimetype": "text/x-python",
   "name": "python",
   "nbconvert_exporter": "python",
   "pygments_lexer": "ipython3",
   "version": "3.8.10"
  }
 },
 "nbformat": 4,
 "nbformat_minor": 5
}
