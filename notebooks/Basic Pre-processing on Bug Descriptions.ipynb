{
 "cells": [
  {
   "cell_type": "code",
   "execution_count": 1,
   "id": "6beb3087",
   "metadata": {},
   "outputs": [],
   "source": [
    "import re\n",
    "import pandas as pd"
   ]
  },
  {
   "cell_type": "code",
   "execution_count": 2,
   "id": "20fdeb69",
   "metadata": {},
   "outputs": [],
   "source": [
    "df = pd.read_csv('./mozilla/bug-dataset-mozilla.csv')"
   ]
  },
  {
   "cell_type": "code",
   "execution_count": 4,
   "id": "f822f8a8",
   "metadata": {},
   "outputs": [
    {
     "data": {
      "text/plain": [
       "(768335, 14)"
      ]
     },
     "execution_count": 4,
     "metadata": {},
     "output_type": "execute_result"
    }
   ],
   "source": [
    "df.shape"
   ]
  },
  {
   "cell_type": "code",
   "execution_count": 3,
   "id": "fc02ef41",
   "metadata": {},
   "outputs": [
    {
     "data": {
      "text/html": [
       "<div>\n",
       "<style scoped>\n",
       "    .dataframe tbody tr th:only-of-type {\n",
       "        vertical-align: middle;\n",
       "    }\n",
       "\n",
       "    .dataframe tbody tr th {\n",
       "        vertical-align: top;\n",
       "    }\n",
       "\n",
       "    .dataframe thead th {\n",
       "        text-align: right;\n",
       "    }\n",
       "</style>\n",
       "<table border=\"1\" class=\"dataframe\">\n",
       "  <thead>\n",
       "    <tr style=\"text-align: right;\">\n",
       "      <th></th>\n",
       "      <th>_id</th>\n",
       "      <th>bug_id</th>\n",
       "      <th>product</th>\n",
       "      <th>description</th>\n",
       "      <th>bug_severity</th>\n",
       "      <th>dup_id</th>\n",
       "      <th>short_desc</th>\n",
       "      <th>priority</th>\n",
       "      <th>version</th>\n",
       "      <th>component</th>\n",
       "      <th>delta_ts</th>\n",
       "      <th>bug_status</th>\n",
       "      <th>creation_ts</th>\n",
       "      <th>resolution</th>\n",
       "    </tr>\n",
       "  </thead>\n",
       "  <tbody>\n",
       "    <tr>\n",
       "      <th>0</th>\n",
       "      <td>ObjectId(52eaece454dc1c410c4fbc01)</td>\n",
       "      <td>35</td>\n",
       "      <td>MozillaClassic</td>\n",
       "      <td>Created by   (weitsang@cs.cornell.edu) on Mond...</td>\n",
       "      <td>minor</td>\n",
       "      <td>[]</td>\n",
       "      <td>Navigator does not free preference hash table ...</td>\n",
       "      <td>P3</td>\n",
       "      <td>1998-03-31</td>\n",
       "      <td>XFE</td>\n",
       "      <td>2013-11-19 18:16:47 -0800</td>\n",
       "      <td>VERIFIED</td>\n",
       "      <td>1998-04-07 01:37:03 -0700</td>\n",
       "      <td>WONTFIX</td>\n",
       "    </tr>\n",
       "    <tr>\n",
       "      <th>1</th>\n",
       "      <td>ObjectId(52eaece454dc1c410c4fbc02)</td>\n",
       "      <td>36</td>\n",
       "      <td>SeaMonkey</td>\n",
       "      <td>Created by J. Daniel Powell (dan@java-linux.or...</td>\n",
       "      <td>critical</td>\n",
       "      <td>[]</td>\n",
       "      <td>Floating Point Exception on Execution</td>\n",
       "      <td>P2</td>\n",
       "      <td>Trunk</td>\n",
       "      <td>Build Config</td>\n",
       "      <td>2012-10-31 18:36:36 -0700</td>\n",
       "      <td>VERIFIED</td>\n",
       "      <td>1998-04-07 02:04:03 -0700</td>\n",
       "      <td>INVALID</td>\n",
       "    </tr>\n",
       "    <tr>\n",
       "      <th>2</th>\n",
       "      <td>ObjectId(52eaece454dc1c410c4fbc03)</td>\n",
       "      <td>37</td>\n",
       "      <td>MozillaClassic</td>\n",
       "      <td>Created by Chen Ronghua (chenrh@usa.net) on Mo...</td>\n",
       "      <td>normal</td>\n",
       "      <td>[]</td>\n",
       "      <td>Preference Dialog does not show</td>\n",
       "      <td>P2</td>\n",
       "      <td>1998-03-31</td>\n",
       "      <td>Windows FE</td>\n",
       "      <td>2000-12-25 17:53:17 -0800</td>\n",
       "      <td>VERIFIED</td>\n",
       "      <td>1998-04-07 02:20:01 -0700</td>\n",
       "      <td>FIXED</td>\n",
       "    </tr>\n",
       "    <tr>\n",
       "      <th>3</th>\n",
       "      <td>ObjectId(52eaece454dc1c410c4fbc04)</td>\n",
       "      <td>39</td>\n",
       "      <td>MozillaClassic</td>\n",
       "      <td>Created by Chen Ronghua (chenrh@usa.net) on Mo...</td>\n",
       "      <td>normal</td>\n",
       "      <td>[]</td>\n",
       "      <td>Bookmark properties leads to an Assert  failed</td>\n",
       "      <td>P2</td>\n",
       "      <td>1998-03-31</td>\n",
       "      <td>Aurora/RDF BE</td>\n",
       "      <td>2013-11-19 23:42:54 -0800</td>\n",
       "      <td>VERIFIED</td>\n",
       "      <td>1998-04-07 02:34:14 -0700</td>\n",
       "      <td>WONTFIX</td>\n",
       "    </tr>\n",
       "    <tr>\n",
       "      <th>4</th>\n",
       "      <td>ObjectId(52eaece454dc1c410c4fbc05)</td>\n",
       "      <td>42</td>\n",
       "      <td>MozillaClassic</td>\n",
       "      <td>Created by Stephan  Nagy (steph8@flash.net) on...</td>\n",
       "      <td>minor</td>\n",
       "      <td>[]</td>\n",
       "      <td>navigator redraw after initial startup</td>\n",
       "      <td>P2</td>\n",
       "      <td>1998-03-31</td>\n",
       "      <td>XFE</td>\n",
       "      <td>2013-07-22 06:53:51 -0700</td>\n",
       "      <td>VERIFIED</td>\n",
       "      <td>1998-04-07 05:42:04 -0700</td>\n",
       "      <td>FIXED</td>\n",
       "    </tr>\n",
       "  </tbody>\n",
       "</table>\n",
       "</div>"
      ],
      "text/plain": [
       "                                  _id  bug_id         product  \\\n",
       "0  ObjectId(52eaece454dc1c410c4fbc01)      35  MozillaClassic   \n",
       "1  ObjectId(52eaece454dc1c410c4fbc02)      36       SeaMonkey   \n",
       "2  ObjectId(52eaece454dc1c410c4fbc03)      37  MozillaClassic   \n",
       "3  ObjectId(52eaece454dc1c410c4fbc04)      39  MozillaClassic   \n",
       "4  ObjectId(52eaece454dc1c410c4fbc05)      42  MozillaClassic   \n",
       "\n",
       "                                         description bug_severity dup_id  \\\n",
       "0  Created by   (weitsang@cs.cornell.edu) on Mond...        minor     []   \n",
       "1  Created by J. Daniel Powell (dan@java-linux.or...     critical     []   \n",
       "2  Created by Chen Ronghua (chenrh@usa.net) on Mo...       normal     []   \n",
       "3  Created by Chen Ronghua (chenrh@usa.net) on Mo...       normal     []   \n",
       "4  Created by Stephan  Nagy (steph8@flash.net) on...        minor     []   \n",
       "\n",
       "                                          short_desc priority     version  \\\n",
       "0  Navigator does not free preference hash table ...       P3  1998-03-31   \n",
       "1              Floating Point Exception on Execution       P2       Trunk   \n",
       "2                    Preference Dialog does not show       P2  1998-03-31   \n",
       "3     Bookmark properties leads to an Assert  failed       P2  1998-03-31   \n",
       "4             navigator redraw after initial startup       P2  1998-03-31   \n",
       "\n",
       "       component                   delta_ts bug_status  \\\n",
       "0            XFE  2013-11-19 18:16:47 -0800   VERIFIED   \n",
       "1   Build Config  2012-10-31 18:36:36 -0700   VERIFIED   \n",
       "2     Windows FE  2000-12-25 17:53:17 -0800   VERIFIED   \n",
       "3  Aurora/RDF BE  2013-11-19 23:42:54 -0800   VERIFIED   \n",
       "4            XFE  2013-07-22 06:53:51 -0700   VERIFIED   \n",
       "\n",
       "                 creation_ts resolution  \n",
       "0  1998-04-07 01:37:03 -0700    WONTFIX  \n",
       "1  1998-04-07 02:04:03 -0700    INVALID  \n",
       "2  1998-04-07 02:20:01 -0700      FIXED  \n",
       "3  1998-04-07 02:34:14 -0700    WONTFIX  \n",
       "4  1998-04-07 05:42:04 -0700      FIXED  "
      ]
     },
     "execution_count": 3,
     "metadata": {},
     "output_type": "execute_result"
    }
   ],
   "source": [
    "df.head()"
   ]
  },
  {
   "cell_type": "code",
   "execution_count": 5,
   "id": "872b289e",
   "metadata": {},
   "outputs": [
    {
     "data": {
      "text/plain": [
       "Core                      205177\n",
       "Firefox                   115814\n",
       "SeaMonkey                  88709\n",
       "Thunderbird                32551\n",
       "MailNews Core              25319\n",
       "                           ...  \n",
       "Petri                          5\n",
       "Talkilla                       3\n",
       "Developer Engagement           3\n",
       "mozillaignite                  3\n",
       "Internet Public Policy         1\n",
       "Name: product, Length: 98, dtype: int64"
      ]
     },
     "execution_count": 5,
     "metadata": {},
     "output_type": "execute_result"
    }
   ],
   "source": [
    "df['product'].value_counts()"
   ]
  },
  {
   "cell_type": "code",
   "execution_count": 7,
   "id": "06ea4b5a",
   "metadata": {},
   "outputs": [
    {
     "data": {
      "text/plain": [
       "General                      143312\n",
       "JavaScript Engine             22084\n",
       "Layout                        16550\n",
       "Bookmarks & History           16203\n",
       "MailNews: Message Display     14855\n",
       "                              ...  \n",
       "Bengali                           1\n",
       "Norton 360                        1\n",
       "Toolbars                          1\n",
       "Tabs                              1\n",
       "hg.instantbird.org                1\n",
       "Name: component, Length: 1191, dtype: int64"
      ]
     },
     "execution_count": 7,
     "metadata": {},
     "output_type": "execute_result"
    }
   ],
   "source": [
    "df['component'].value_counts()"
   ]
  },
  {
   "cell_type": "code",
   "execution_count": 8,
   "id": "d2a2bc16",
   "metadata": {},
   "outputs": [
    {
     "data": {
      "text/plain": [
       "Trunk          331927\n",
       "unspecified    272729\n",
       "other           59340\n",
       "1.0 Branch       5396\n",
       "1.0              5363\n",
       "                ...  \n",
       "409                 1\n",
       "2.20.7              1\n",
       "2.23.1              1\n",
       "1.5R4               1\n",
       "BW-1.2              1\n",
       "Name: version, Length: 539, dtype: int64"
      ]
     },
     "execution_count": 8,
     "metadata": {},
     "output_type": "execute_result"
    }
   ],
   "source": [
    "df['version'].value_counts()"
   ]
  },
  {
   "cell_type": "code",
   "execution_count": 9,
   "id": "68c80c9b",
   "metadata": {},
   "outputs": [
    {
     "data": {
      "text/plain": [
       "--    632333\n",
       "P3     68145\n",
       "P2     28773\n",
       "P1     28499\n",
       "P4      6493\n",
       "P5      4092\n",
       "Name: priority, dtype: int64"
      ]
     },
     "execution_count": 9,
     "metadata": {},
     "output_type": "execute_result"
    }
   ],
   "source": [
    "df['priority'].value_counts()"
   ]
  },
  {
   "cell_type": "code",
   "execution_count": 4,
   "id": "932a51c8",
   "metadata": {},
   "outputs": [],
   "source": [
    "#retrieve the bug_ids \n",
    "bug_ids = df['bug_id'].tolist()"
   ]
  },
  {
   "cell_type": "code",
   "execution_count": 5,
   "id": "a424af38",
   "metadata": {},
   "outputs": [],
   "source": [
    "#retrieve the descriptions\n",
    "bug_descriptions = df['description'].tolist()"
   ]
  },
  {
   "cell_type": "code",
   "execution_count": 6,
   "id": "7ba7159c",
   "metadata": {},
   "outputs": [],
   "source": [
    "#retrieve their dup_id\n",
    "bug_dup_ids = df['dup_id'].tolist()"
   ]
  },
  {
   "cell_type": "code",
   "execution_count": 16,
   "id": "2b1ef964",
   "metadata": {},
   "outputs": [],
   "source": [
    "#doing NER\n",
    "import spacy\n",
    "from spacy import displacy\n",
    "from collections import Counter\n",
    "import en_core_web_sm\n",
    "nlp = en_core_web_sm.load()"
   ]
  },
  {
   "cell_type": "code",
   "execution_count": null,
   "id": "4bd750ea",
   "metadata": {},
   "outputs": [
    {
     "name": "stderr",
     "output_type": "stream",
     "text": [
      " 18%|█████▊                           | 135041/768335 [46:40<2:58:52, 59.01it/s]"
     ]
    }
   ],
   "source": [
    "from tqdm import tqdm\n",
    "\n",
    "import csv\n",
    "\n",
    "processed_desc_1 = []\n",
    "no_ner_indices = []\n",
    "\n",
    "for i in tqdm(range(len(bug_descriptions))):\n",
    "    \n",
    "    desc = bug_descriptions[i]\n",
    "    doc = nlp(str(desc))\n",
    "    \n",
    "    enc_dict = dict()\n",
    "    \n",
    "    for ent in doc.ents:\n",
    "        enc_dict[ent.text] = ent.label_\n",
    "    \n",
    "    if not enc_dict:\n",
    "        no_ner_indices.append(i)\n",
    "    else:\n",
    "        desc = re.sub('({})'.format('|'.join(map(re.escape, enc_dict.keys()))), lambda m: enc_dict[m.group()], desc)\n",
    "        \n",
    "    processed_desc_1.append(desc)"
   ]
  },
  {
   "cell_type": "code",
   "execution_count": 14,
   "id": "b6f39413",
   "metadata": {},
   "outputs": [
    {
     "name": "stderr",
     "output_type": "stream",
     "text": [
      "100%|████████████████████████████████| 768335/768335 [00:26<00:00, 28984.32it/s]\n"
     ]
    }
   ],
   "source": [
    "#processing to remove the alphanumeric characters\n",
    "processed_desc_2 = []\n",
    "for i in tqdm(range(len(processed_desc_1))):\n",
    "    desc = processed_desc_1[i]\n",
    "    processed_desc_2.append(re.sub(\"[^A-Za-z0-9]+\", \" \", str(desc)))"
   ]
  },
  {
   "cell_type": "code",
   "execution_count": null,
   "id": "63e7fd4c",
   "metadata": {},
   "outputs": [],
   "source": [
    "#converting to lower case and tokenizing them "
   ]
  },
  {
   "cell_type": "code",
   "execution_count": null,
   "id": "78bbe23e",
   "metadata": {},
   "outputs": [],
   "source": []
  }
 ],
 "metadata": {
  "kernelspec": {
   "display_name": "Python 3 (ipykernel)",
   "language": "python",
   "name": "python3"
  },
  "language_info": {
   "codemirror_mode": {
    "name": "ipython",
    "version": 3
   },
   "file_extension": ".py",
   "mimetype": "text/x-python",
   "name": "python",
   "nbconvert_exporter": "python",
   "pygments_lexer": "ipython3",
   "version": "3.8.10"
  }
 },
 "nbformat": 4,
 "nbformat_minor": 5
}
