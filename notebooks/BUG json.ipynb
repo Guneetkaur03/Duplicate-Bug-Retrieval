{
 "cells": [
  {
   "cell_type": "code",
   "execution_count": 1,
   "id": "d598698f",
   "metadata": {},
   "outputs": [],
   "source": [
    "import pandas as pd\n",
    "from tqdm import tqdm"
   ]
  },
  {
   "cell_type": "code",
   "execution_count": 2,
   "id": "043e512d",
   "metadata": {},
   "outputs": [
    {
     "data": {
      "text/html": [
       "<div>\n",
       "<style scoped>\n",
       "    .dataframe tbody tr th:only-of-type {\n",
       "        vertical-align: middle;\n",
       "    }\n",
       "\n",
       "    .dataframe tbody tr th {\n",
       "        vertical-align: top;\n",
       "    }\n",
       "\n",
       "    .dataframe thead th {\n",
       "        text-align: right;\n",
       "    }\n",
       "</style>\n",
       "<table border=\"1\" class=\"dataframe\">\n",
       "  <thead>\n",
       "    <tr style=\"text-align: right;\">\n",
       "      <th></th>\n",
       "      <th>bug1</th>\n",
       "      <th>bug2</th>\n",
       "    </tr>\n",
       "  </thead>\n",
       "  <tbody>\n",
       "    <tr>\n",
       "      <th>0</th>\n",
       "      <td>741376</td>\n",
       "      <td>880641</td>\n",
       "    </tr>\n",
       "    <tr>\n",
       "      <th>1</th>\n",
       "      <td>741376</td>\n",
       "      <td>864259</td>\n",
       "    </tr>\n",
       "    <tr>\n",
       "      <th>2</th>\n",
       "      <td>741376</td>\n",
       "      <td>808969</td>\n",
       "    </tr>\n",
       "    <tr>\n",
       "      <th>3</th>\n",
       "      <td>741376</td>\n",
       "      <td>800787</td>\n",
       "    </tr>\n",
       "    <tr>\n",
       "      <th>4</th>\n",
       "      <td>741376</td>\n",
       "      <td>686102</td>\n",
       "    </tr>\n",
       "  </tbody>\n",
       "</table>\n",
       "</div>"
      ],
      "text/plain": [
       "     bug1    bug2\n",
       "0  741376  880641\n",
       "1  741376  864259\n",
       "2  741376  808969\n",
       "3  741376  800787\n",
       "4  741376  686102"
      ]
     },
     "execution_count": 2,
     "metadata": {},
     "output_type": "execute_result"
    }
   ],
   "source": [
    "df = pd.read_csv('duplicate_bug_pairs.csv')\n",
    "df.head()"
   ]
  },
  {
   "cell_type": "code",
   "execution_count": 3,
   "id": "097d5036",
   "metadata": {},
   "outputs": [],
   "source": [
    "pairs = []"
   ]
  },
  {
   "cell_type": "code",
   "execution_count": 4,
   "id": "e99fe0c6",
   "metadata": {},
   "outputs": [
    {
     "name": "stderr",
     "output_type": "stream",
     "text": [
      "100%|██████████████████████████████| 1149116/1149116 [01:44<00:00, 11025.11it/s]\n"
     ]
    }
   ],
   "source": [
    "for i in tqdm(range(df.shape[0])):\n",
    "    row = df.iloc[i, :]\n",
    "    pairs.append({\"bug1\": int(row['bug1']), \"bug2\": int(row['bug2']), \"dec\": 1})"
   ]
  },
  {
   "cell_type": "code",
   "execution_count": 5,
   "id": "0b8ff5be",
   "metadata": {},
   "outputs": [
    {
     "data": {
      "text/html": [
       "<div>\n",
       "<style scoped>\n",
       "    .dataframe tbody tr th:only-of-type {\n",
       "        vertical-align: middle;\n",
       "    }\n",
       "\n",
       "    .dataframe tbody tr th {\n",
       "        vertical-align: top;\n",
       "    }\n",
       "\n",
       "    .dataframe thead th {\n",
       "        text-align: right;\n",
       "    }\n",
       "</style>\n",
       "<table border=\"1\" class=\"dataframe\">\n",
       "  <thead>\n",
       "    <tr style=\"text-align: right;\">\n",
       "      <th></th>\n",
       "      <th>bug1</th>\n",
       "      <th>bug2</th>\n",
       "    </tr>\n",
       "  </thead>\n",
       "  <tbody>\n",
       "    <tr>\n",
       "      <th>0</th>\n",
       "      <td>235863</td>\n",
       "      <td>704572</td>\n",
       "    </tr>\n",
       "    <tr>\n",
       "      <th>1</th>\n",
       "      <td>378295</td>\n",
       "      <td>591371</td>\n",
       "    </tr>\n",
       "    <tr>\n",
       "      <th>2</th>\n",
       "      <td>860894</td>\n",
       "      <td>938812</td>\n",
       "    </tr>\n",
       "    <tr>\n",
       "      <th>3</th>\n",
       "      <td>678846</td>\n",
       "      <td>806878</td>\n",
       "    </tr>\n",
       "    <tr>\n",
       "      <th>4</th>\n",
       "      <td>231081</td>\n",
       "      <td>309125</td>\n",
       "    </tr>\n",
       "  </tbody>\n",
       "</table>\n",
       "</div>"
      ],
      "text/plain": [
       "     bug1    bug2\n",
       "0  235863  704572\n",
       "1  378295  591371\n",
       "2  860894  938812\n",
       "3  678846  806878\n",
       "4  231081  309125"
      ]
     },
     "execution_count": 5,
     "metadata": {},
     "output_type": "execute_result"
    }
   ],
   "source": [
    "df = pd.read_csv('non_duplicate_bug_pairs.csv')\n",
    "df.head()"
   ]
  },
  {
   "cell_type": "code",
   "execution_count": 6,
   "id": "0435af8a",
   "metadata": {},
   "outputs": [
    {
     "name": "stderr",
     "output_type": "stream",
     "text": [
      "100%|██████████████████████████████| 4596464/4596464 [06:52<00:00, 11152.54it/s]\n"
     ]
    }
   ],
   "source": [
    "for i in tqdm(range(df.shape[0])):\n",
    "    row = df.iloc[i, :]\n",
    "    pairs.append({\"bug1\": int(row['bug1']), \"bug2\": int(row['bug2']), \"dec\": -1})"
   ]
  },
  {
   "cell_type": "code",
   "execution_count": 7,
   "id": "30d1f818",
   "metadata": {},
   "outputs": [],
   "source": [
    "import random\n",
    "random.shuffle(pairs)"
   ]
  },
  {
   "cell_type": "code",
   "execution_count": 8,
   "id": "b5967d91",
   "metadata": {},
   "outputs": [
    {
     "data": {
      "text/plain": [
       "[{'bug1': 268281, 'bug2': 885272, 'dec': -1},\n",
       " {'bug1': 260109, 'bug2': 398637, 'dec': -1},\n",
       " {'bug1': 285176, 'bug2': 532680, 'dec': -1},\n",
       " {'bug1': 217120, 'bug2': 253416, 'dec': 1},\n",
       " {'bug1': 369154, 'bug2': 896105, 'dec': -1},\n",
       " {'bug1': 43492, 'bug2': 735401, 'dec': -1},\n",
       " {'bug1': 453949, 'bug2': 793315, 'dec': -1},\n",
       " {'bug1': 410268, 'bug2': 410634, 'dec': 1},\n",
       " {'bug1': 668700, 'bug2': 815722, 'dec': -1},\n",
       " {'bug1': 248053, 'bug2': 232237, 'dec': 1},\n",
       " {'bug1': 174803, 'bug2': 672709, 'dec': -1},\n",
       " {'bug1': 144656, 'bug2': 215879, 'dec': -1},\n",
       " {'bug1': 456723, 'bug2': 456732, 'dec': 1},\n",
       " {'bug1': 219805, 'bug2': 31412, 'dec': 1},\n",
       " {'bug1': 187979, 'bug2': 597707, 'dec': -1}]"
      ]
     },
     "execution_count": 8,
     "metadata": {},
     "output_type": "execute_result"
    }
   ],
   "source": [
    "pairs[:15]"
   ]
  },
  {
   "cell_type": "code",
   "execution_count": 16,
   "id": "4bfac04f",
   "metadata": {},
   "outputs": [],
   "source": [
    "import json\n",
    "# jsonString = json.dumps(pairs)\n",
    "jsonFile = open(\"pairs.json\", \"w\")\n",
    "\n",
    "for pair in pairs:\n",
    "    jsonFile.write(json.dumps(pair))\n",
    "    jsonFile.write('\\n')\n",
    "jsonFile.close()"
   ]
  },
  {
   "cell_type": "code",
   "execution_count": null,
   "id": "075b4200",
   "metadata": {},
   "outputs": [],
   "source": [
    "# import json\n",
    "# with open('pairs.json', 'w') as f:\n",
    "#     json.dump(pairs, f)"
   ]
  },
  {
   "cell_type": "code",
   "execution_count": 19,
   "id": "83cd4e0d",
   "metadata": {},
   "outputs": [
    {
     "name": "stdout",
     "output_type": "stream",
     "text": [
      "268281\n"
     ]
    }
   ],
   "source": [
    "import json\n",
    "count = 0\n",
    "with open('pairs.json', 'r') as f:\n",
    "    for line in f:\n",
    "        count += 1\n",
    "        if count > 10000:\n",
    "            break\n",
    "        pair = json.loads(line)\n",
    "        print(pair['bug1'])\n",
    "        break"
   ]
  },
  {
   "cell_type": "code",
   "execution_count": null,
   "id": "2d834d6f",
   "metadata": {},
   "outputs": [],
   "source": []
  }
 ],
 "metadata": {
  "kernelspec": {
   "display_name": "Python 3 (ipykernel)",
   "language": "python",
   "name": "python3"
  },
  "language_info": {
   "codemirror_mode": {
    "name": "ipython",
    "version": 3
   },
   "file_extension": ".py",
   "mimetype": "text/x-python",
   "name": "python",
   "nbconvert_exporter": "python",
   "pygments_lexer": "ipython3",
   "version": "3.8.10"
  }
 },
 "nbformat": 4,
 "nbformat_minor": 5
}
